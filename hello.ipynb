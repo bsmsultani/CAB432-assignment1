{
 "cells": [
  {
   "cell_type": "code",
   "execution_count": 3,
   "metadata": {},
   "outputs": [],
   "source": [
    "def MedianOfSortedArr(arr1 : list[int], arr2: list[int]):\n",
    "    \"\"\"\n",
    "    Given two sorted arrays arr1 and arr2 of size N each. \n",
    "    The task is to find the median of the two arrays when they get merged.\n",
    "    \"\"\"\n",
    "    \n",
    "    # Merge the two arrays\n",
    "    arr = arr1 + arr2\n",
    "    arr.sort()\n",
    "    \n",
    "    # Find the median\n",
    "    if len(arr) % 2 == 0:\n",
    "        return (arr[len(arr)//2] + arr[len(arr)//2 - 1]) / 2\n",
    "    else:\n",
    "        return arr[len(arr)//2]\n",
    "    "
   ]
  },
  {
   "cell_type": "code",
   "execution_count": 4,
   "metadata": {},
   "outputs": [
    {
     "data": {
      "text/plain": [
       "5.5"
      ]
     },
     "execution_count": 4,
     "metadata": {},
     "output_type": "execute_result"
    }
   ],
   "source": [
    "MedianOfSortedArr([1, 2, 3, 4, 5], [6, 11, 13, 15, 17])"
   ]
  },
  {
   "cell_type": "code",
   "execution_count": null,
   "metadata": {},
   "outputs": [],
   "source": []
  }
 ],
 "metadata": {
  "kernelspec": {
   "display_name": ".venv",
   "language": "python",
   "name": "python3"
  },
  "language_info": {
   "codemirror_mode": {
    "name": "ipython",
    "version": 3
   },
   "file_extension": ".py",
   "mimetype": "text/x-python",
   "name": "python",
   "nbconvert_exporter": "python",
   "pygments_lexer": "ipython3",
   "version": "3.11.5"
  },
  "orig_nbformat": 4
 },
 "nbformat": 4,
 "nbformat_minor": 2
}
